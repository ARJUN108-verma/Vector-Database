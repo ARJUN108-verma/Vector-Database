{
  "nbformat": 4,
  "nbformat_minor": 0,
  "metadata": {
    "colab": {
      "private_outputs": true,
      "provenance": [],
      "authorship_tag": "ABX9TyOB2bu5R/TFgEZNWqS4H/pd",
      "include_colab_link": true
    },
    "kernelspec": {
      "name": "python3",
      "display_name": "Python 3"
    },
    "language_info": {
      "name": "python"
    }
  },
  "cells": [
    {
      "cell_type": "markdown",
      "metadata": {
        "id": "view-in-github",
        "colab_type": "text"
      },
      "source": [
        "<a href=\"https://colab.research.google.com/github/ARJUN108-verma/Vector-Database/blob/main/9_Upserting_the_new_updated_files_to_pinecone.ipynb\" target=\"_parent\"><img src=\"https://colab.research.google.com/assets/colab-badge.svg\" alt=\"Open In Colab\"/></a>"
      ]
    },
    {
      "cell_type": "markdown",
      "source": [
        "#Upserting the new updated files to pinecone:-"
      ],
      "metadata": {
        "id": "6J5pcVv2OpR0"
      }
    },
    {
      "cell_type": "code",
      "source": [
        "%load_ext dotenv\n",
        "%dotenv"
      ],
      "metadata": {
        "id": "G5iiAOCcOx-q"
      },
      "execution_count": null,
      "outputs": []
    },
    {
      "cell_type": "code",
      "source": [
        "!pip install pinecone"
      ],
      "metadata": {
        "id": "JxwP_C6mO9uK"
      },
      "execution_count": null,
      "outputs": []
    },
    {
      "cell_type": "code",
      "execution_count": null,
      "metadata": {
        "id": "zeqRW6H2MUuq"
      },
      "outputs": [],
      "source": [
        "import pandas as pd\n",
        "import os\n",
        "from pinecone import Pinecone, ServerlessSpec\n",
        "from dotenv import load_dotenv, find_dotenv\n",
        "import pinecone\n",
        "from sentence_transformers import SentenceTransformer"
      ]
    },
    {
      "cell_type": "code",
      "source": [
        "files = pd.read_csv(\"/content/course_section_descriptions.csv\", encoding=\"cp1252\")"
      ],
      "metadata": {
        "id": "5VCjii6QO7Nq"
      },
      "execution_count": null,
      "outputs": []
    },
    {
      "cell_type": "code",
      "source": [
        "files[\"unique_id\"] = files[\"course_id\"].astype(str) + '-' + files[\"section_id\"].astype(str)"
      ],
      "metadata": {
        "id": "ueFXGE5-PczL"
      },
      "execution_count": null,
      "outputs": []
    },
    {
      "cell_type": "code",
      "source": [
        "files[\"metadata\"] = files.apply(lambda row: {\n",
        "    \"course_name\": row[\"course_name\"],\n",
        "    \"section_name\": row[\"section_name\"],\n",
        "    \"section_description\": row[\"section_description\"],\n",
        "}, axis = 1)"
      ],
      "metadata": {
        "id": "ovstay94QKUd"
      },
      "execution_count": null,
      "outputs": []
    },
    {
      "cell_type": "code",
      "source": [
        "def create_embeddings(row):\n",
        "    combined_text = f'''{row[\"course_name\"]} {row[\"course_technology\"]}\n",
        "                        {row[\"course_description\"]} {row[\"section_name\"]}{row[\"section_description\"]}'''\n",
        "    return model.encode(combined_text, show_progress_bar = False)"
      ],
      "metadata": {
        "id": "fNY25Mw2QSXz"
      },
      "execution_count": null,
      "outputs": []
    },
    {
      "cell_type": "code",
      "source": [
        "model = SentenceTransformer(\"all-MiniLM-L6-v2\")"
      ],
      "metadata": {
        "id": "Anrk-TkGQV-D"
      },
      "execution_count": null,
      "outputs": []
    },
    {
      "cell_type": "code",
      "source": [
        "files[\"embedding\"] = files.apply(create_embeddings, axis = 1)"
      ],
      "metadata": {
        "id": "XDCUW_YEQZdD"
      },
      "execution_count": null,
      "outputs": []
    },
    {
      "cell_type": "markdown",
      "source": [
        "## Upserting data to Pinecone:-"
      ],
      "metadata": {
        "id": "AMmNW3DyQdGD"
      }
    },
    {
      "cell_type": "code",
      "source": [
        "load_dotenv(find_dotenv(), override = True)"
      ],
      "metadata": {
        "id": "Z_dFsh51QfbE"
      },
      "execution_count": null,
      "outputs": []
    },
    {
      "cell_type": "code",
      "source": [
        "pc = Pinecone(api_key = os.environ.get(\"PINECONE_API_KEY\"), environment = os.environ.get(\"PINECONE_ENV\"))"
      ],
      "metadata": {
        "id": "JYdKWjhHQkd8"
      },
      "execution_count": null,
      "outputs": []
    },
    {
      "cell_type": "code",
      "source": [
        "index_name = \"my-index\"\n",
        "dimension = 384\n",
        "metric = \"cosine\""
      ],
      "metadata": {
        "id": "P9pvXKZTQnWG"
      },
      "execution_count": null,
      "outputs": []
    },
    {
      "cell_type": "code",
      "source": [
        "if index_name in [index.name for index in pc.list_indexes()]:\n",
        "    pc.delete_index(index_name)\n",
        "    print(f\"{index_name} succesfully deleted.\")\n",
        "else:\n",
        "     print(f\"{index_name} not in index list.\")"
      ],
      "metadata": {
        "id": "O3pEksNlQqkr"
      },
      "execution_count": null,
      "outputs": []
    },
    {
      "cell_type": "code",
      "source": [
        "pc.create_index(\n",
        "    name = index_name,\n",
        "    dimension = dimension,\n",
        "    metric = metric,\n",
        "    spec = ServerlessSpec(\n",
        "        cloud = \"aws\",\n",
        "        region = \"us-east-1\")\n",
        "    )"
      ],
      "metadata": {
        "id": "A3ZwhG7NQuRj"
      },
      "execution_count": null,
      "outputs": []
    },
    {
      "cell_type": "code",
      "source": [
        "index = pc.Index(index_name)"
      ],
      "metadata": {
        "id": "0amkqqb1QyFb"
      },
      "execution_count": null,
      "outputs": []
    },
    {
      "cell_type": "code",
      "source": [
        "vectors_to_upsert = [(row[\"unique_id\"], row[\"embedding\"].tolist(), row[\"metadata\"]) for index, row in files.iterrows()  ]"
      ],
      "metadata": {
        "id": "BSK2CBSzQ1lr"
      },
      "execution_count": null,
      "outputs": []
    },
    {
      "cell_type": "code",
      "source": [
        "index.upsert(vectors = vectors_to_upsert)\n",
        "print(\"Data succesfully upserted to Pinecone index\")"
      ],
      "metadata": {
        "id": "z27e_n9RQ4YD"
      },
      "execution_count": null,
      "outputs": []
    },
    {
      "cell_type": "code",
      "source": [
        "query = \"regression in Python\"\n",
        "query_embedding = model.encode(query, show_progress_bar=False).tolist()"
      ],
      "metadata": {
        "id": "gphgUeLcQ8rr"
      },
      "execution_count": null,
      "outputs": []
    },
    {
      "cell_type": "code",
      "source": [
        "score_threshold = 0.4"
      ],
      "metadata": {
        "id": "lVk_4nSORCmL"
      },
      "execution_count": null,
      "outputs": []
    },
    {
      "cell_type": "code",
      "source": [
        "# Assuming query_results are fetched and include metadata\n",
        "for match in query_results['matches']:\n",
        "    if match['score'] >= score_threshold:\n",
        "        course_details = match.get('metadata', {})\n",
        "        course_name = course_details.get('course_name', 'N/A')\n",
        "        section_name = course_details.get('section_name', 'N/A')\n",
        "        section_description = course_details.get('section_description', 'No description available')\n",
        "\n",
        "        print(f\"Matched item ID: {match['id']}, Score: {match['score']}\")\n",
        "        print(f\"Course: {course_name} \\nSection: {section_name} \\nDescription: {section_description}\")"
      ],
      "metadata": {
        "id": "ZtpAd4l3RI3D"
      },
      "execution_count": null,
      "outputs": []
    },
    {
      "cell_type": "code",
      "source": [],
      "metadata": {
        "id": "RO6t-rgqRvx2"
      },
      "execution_count": null,
      "outputs": []
    }
  ]
}