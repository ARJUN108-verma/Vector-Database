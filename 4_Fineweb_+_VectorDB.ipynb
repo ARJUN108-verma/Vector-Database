{
  "nbformat": 4,
  "nbformat_minor": 0,
  "metadata": {
    "colab": {
      "private_outputs": true,
      "provenance": [],
      "authorship_tag": "ABX9TyPlnblmGGt2r5TTcJkWw00M",
      "include_colab_link": true
    },
    "kernelspec": {
      "name": "python3",
      "display_name": "Python 3"
    },
    "language_info": {
      "name": "python"
    }
  },
  "cells": [
    {
      "cell_type": "markdown",
      "metadata": {
        "id": "view-in-github",
        "colab_type": "text"
      },
      "source": [
        "<a href=\"https://colab.research.google.com/github/ARJUN108-verma/Vector-Database/blob/main/4_Fineweb_%2B_VectorDB.ipynb\" target=\"_parent\"><img src=\"https://colab.research.google.com/assets/colab-badge.svg\" alt=\"Open In Colab\"/></a>"
      ]
    },
    {
      "cell_type": "markdown",
      "source": [
        "#Fineweb + VectorDB :-"
      ],
      "metadata": {
        "id": "CLQlrqmrotJ4"
      }
    },
    {
      "cell_type": "code",
      "source": [
        "!pip install pinecone"
      ],
      "metadata": {
        "id": "zB1srbY_nThI"
      },
      "execution_count": null,
      "outputs": []
    },
    {
      "cell_type": "code",
      "execution_count": null,
      "metadata": {
        "id": "i8yUDcnxmrSY"
      },
      "outputs": [],
      "source": [
        "from datasets import load_dataset\n",
        "from dotenv import load_dotenv, find_dotenv\n",
        "import pinecone\n",
        "from pinecone import Pinecone, ServerlessSpec\n",
        "import os\n",
        "from sentence_transformers import SentenceTransformer"
      ]
    },
    {
      "cell_type": "code",
      "source": [
        "fw = load_dataset(\"HuggingFaceFW/fineweb\", name = \"sample-10BT\", split = \"train\", streaming = True)"
      ],
      "metadata": {
        "id": "gVNcL1NInC6h"
      },
      "execution_count": null,
      "outputs": []
    },
    {
      "cell_type": "code",
      "source": [
        "fw"
      ],
      "metadata": {
        "id": "XBAH0rt8nJll"
      },
      "execution_count": null,
      "outputs": []
    },
    {
      "cell_type": "code",
      "source": [
        "fw.features"
      ],
      "metadata": {
        "id": "0sNjmL2nnKql"
      },
      "execution_count": null,
      "outputs": []
    },
    {
      "cell_type": "code",
      "source": [
        "model = SentenceTransformer(\"all-MiniLM-L6-v2\")"
      ],
      "metadata": {
        "id": "kMXal7U8neuO"
      },
      "execution_count": null,
      "outputs": []
    },
    {
      "cell_type": "code",
      "source": [
        "load_dotenv(find_dotenv(), override = True)"
      ],
      "metadata": {
        "id": "hQfGPpFTnh6u"
      },
      "execution_count": null,
      "outputs": []
    },
    {
      "cell_type": "code",
      "source": [
        "pc = Pinecone(api_key = os.environ.get(\"PINECONE_API_KEY\"), environment = os.environ.get(\"PINECONE_ENV\"))"
      ],
      "metadata": {
        "id": "KOWvycrvnlXw"
      },
      "execution_count": null,
      "outputs": []
    },
    {
      "cell_type": "code",
      "source": [
        "pc.list_indexes()"
      ],
      "metadata": {
        "id": "66AhAwIrnoh5"
      },
      "execution_count": null,
      "outputs": []
    },
    {
      "cell_type": "code",
      "source": [
        "pc.create_index(\n",
        "    name=\"text\",\n",
        "    dimension=model.get_sentence_embedding_dimension(),\n",
        "    metric=\"cosine\",\n",
        "    spec=ServerlessSpec(\n",
        "        cloud='aws',\n",
        "        region='us-east-1'\n",
        "    )\n",
        ")"
      ],
      "metadata": {
        "id": "2-DRoSH0ntnv"
      },
      "execution_count": null,
      "outputs": []
    },
    {
      "cell_type": "code",
      "source": [
        "index = pc.Index(name = \"text\")"
      ],
      "metadata": {
        "id": "90zAX2NynyG3"
      },
      "execution_count": null,
      "outputs": []
    },
    {
      "cell_type": "code",
      "source": [
        "# Define the number of items you want to process (subset size)\n",
        "subset_size = 10000  # For example, take only 10,000 items\n",
        "\n",
        "# Iterate over the dataset and prepare data for upserting\n",
        "vectors_to_upsert = []\n",
        "for i, item in enumerate(fw):\n",
        "    if i >= subset_size:\n",
        "        break\n",
        "\n",
        "    text = item['text']\n",
        "    unique_id = str(item['id'])\n",
        "    language = item['language']\n",
        "\n",
        "    # Create an embedding for the text\n",
        "    embedding = model.encode(text, show_progress_bar=False).tolist()\n",
        "\n",
        "    # Prepare metadata\n",
        "    metadata = {'language': language}\n",
        "\n",
        "    # Append the tuple (id, embedding, metadata) to the list\n",
        "    vectors_to_upsert.append((unique_id, embedding, metadata))\n",
        "\n",
        "# Upsert data to Pinecone in batches\n",
        "batch_size = 1000  # Adjust based on your environment and dataset size\n",
        "for i in range(0, len(vectors_to_upsert), batch_size):\n",
        "    batch = vectors_to_upsert[i:i + batch_size]\n",
        "    index.upsert(vectors=batch)\n",
        "\n",
        "print(\"Subset of data upserted to Pinecone index.\")\n"
      ],
      "metadata": {
        "id": "6k8EEdTsny1e"
      },
      "execution_count": null,
      "outputs": []
    }
  ]
}