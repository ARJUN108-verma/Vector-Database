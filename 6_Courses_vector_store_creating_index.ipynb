{
  "nbformat": 4,
  "nbformat_minor": 0,
  "metadata": {
    "colab": {
      "private_outputs": true,
      "provenance": [],
      "authorship_tag": "ABX9TyO8LcC+PpKETojy8+NtcJGn",
      "include_colab_link": true
    },
    "kernelspec": {
      "name": "python3",
      "display_name": "Python 3"
    },
    "language_info": {
      "name": "python"
    }
  },
  "cells": [
    {
      "cell_type": "markdown",
      "metadata": {
        "id": "view-in-github",
        "colab_type": "text"
      },
      "source": [
        "<a href=\"https://colab.research.google.com/github/ARJUN108-verma/Vector-Database/blob/main/6_Courses_vector_store_creating_index.ipynb\" target=\"_parent\"><img src=\"https://colab.research.google.com/assets/colab-badge.svg\" alt=\"Open In Colab\"/></a>"
      ]
    },
    {
      "cell_type": "markdown",
      "source": [
        "#Courses vector store creting index:-"
      ],
      "metadata": {
        "id": "EUGHvOwNB_Mv"
      }
    },
    {
      "cell_type": "code",
      "execution_count": null,
      "metadata": {
        "id": "74MIcF9BBrTw"
      },
      "outputs": [],
      "source": [
        "import pandas as pd\n",
        "import os\n",
        "from pinecone import Pinecone, ServerlessSpec\n",
        "from dotenv import load_dotenv, find_dotenv\n",
        "import pinecone\n",
        "from sentence_transformers import SentenceTransformer"
      ]
    },
    {
      "cell_type": "code",
      "source": [
        "files = pd.read_csv(\"course_descriptions.csv\", encoding = \"ANSI\")"
      ],
      "metadata": {
        "id": "CDdDywtlCPNJ"
      },
      "execution_count": null,
      "outputs": []
    },
    {
      "cell_type": "code",
      "source": [
        "def create_course_description(row):\n",
        "    return f'''The course name is {row[\"course_name\"]}, the slug is {row[\"course_slug\"]},\n",
        "            the technology is {row[\"course_technology\"]} and the course topic is {row[\"course_topic\"]}'''"
      ],
      "metadata": {
        "id": "Gj-0uUHjCSyH"
      },
      "execution_count": null,
      "outputs": []
    },
    {
      "cell_type": "code",
      "source": [
        "pd.set_option('display.max_rows', 106)\n",
        "files['course_description_new'] = files.apply(create_course_description, axis = 1)\n",
        "print(files[\"course_description_new\"])"
      ],
      "metadata": {
        "id": "AcjoWH_QCXBH"
      },
      "execution_count": null,
      "outputs": []
    },
    {
      "cell_type": "code",
      "source": [
        "%load_ext dotenv\n",
        "%dotenv"
      ],
      "metadata": {
        "id": "q3EgQ7ZnCctY"
      },
      "execution_count": null,
      "outputs": []
    },
    {
      "cell_type": "code",
      "source": [
        "load_dotenv(find_dotenv(), override = True)"
      ],
      "metadata": {
        "id": "BWt-lkepCg4p"
      },
      "execution_count": null,
      "outputs": []
    },
    {
      "cell_type": "code",
      "source": [
        "pc = Pinecone(api_key = os.environ.get(\"PINECONE_API_KEY\"), environment = os.environ.get(\"PINECONE_ENV\"))"
      ],
      "metadata": {
        "id": "YFG_Ag2YChoX"
      },
      "execution_count": null,
      "outputs": []
    }
  ]
}