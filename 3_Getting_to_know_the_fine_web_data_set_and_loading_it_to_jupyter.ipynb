{
  "nbformat": 4,
  "nbformat_minor": 0,
  "metadata": {
    "colab": {
      "private_outputs": true,
      "provenance": [],
      "authorship_tag": "ABX9TyPdRf31jJHp7qHwYiweJEfF",
      "include_colab_link": true
    },
    "kernelspec": {
      "name": "python3",
      "display_name": "Python 3"
    },
    "language_info": {
      "name": "python"
    }
  },
  "cells": [
    {
      "cell_type": "markdown",
      "metadata": {
        "id": "view-in-github",
        "colab_type": "text"
      },
      "source": [
        "<a href=\"https://colab.research.google.com/github/ARJUN108-verma/Vector-Database/blob/main/3_Getting_to_know_the_fine_web_data_set_and_loading_it_to_jupyter.ipynb\" target=\"_parent\"><img src=\"https://colab.research.google.com/assets/colab-badge.svg\" alt=\"Open In Colab\"/></a>"
      ]
    },
    {
      "cell_type": "markdown",
      "source": [
        "#Getting to know the fine web data set and loading it to jupyter :-"
      ],
      "metadata": {
        "id": "FLGhXJzJXz3E"
      }
    },
    {
      "cell_type": "code",
      "source": [
        "!pip install pinecone"
      ],
      "metadata": {
        "id": "R5MGU9JbYH07"
      },
      "execution_count": null,
      "outputs": []
    },
    {
      "cell_type": "code",
      "execution_count": null,
      "metadata": {
        "id": "1a1HSlsVXQwW"
      },
      "outputs": [],
      "source": [
        "import pinecone"
      ]
    },
    {
      "cell_type": "code",
      "source": [
        "from pinecone import Pinecone, ServerlessSpec"
      ],
      "metadata": {
        "id": "dg435dK9YArJ"
      },
      "execution_count": null,
      "outputs": []
    },
    {
      "cell_type": "code",
      "source": [
        "import os\n",
        "from dotenv import load_dotenv, find_dotenv"
      ],
      "metadata": {
        "id": "0Lny4h0eYk6D"
      },
      "execution_count": null,
      "outputs": []
    },
    {
      "cell_type": "code",
      "source": [
        "load_dotenv(find_dotenv(), override= True)"
      ],
      "metadata": {
        "id": "NpwKois3YxlQ"
      },
      "execution_count": null,
      "outputs": []
    },
    {
      "cell_type": "code",
      "source": [
        "pc = pinecone(api_key = os.version.get(\"PINECONE_API_KEY\"), environment = os.environ.get(\"PINECONE_ENV\"))"
      ],
      "metadata": {
        "id": "fRgox-86ZCrR"
      },
      "execution_count": null,
      "outputs": []
    },
    {
      "cell_type": "code",
      "source": [
        "pc.list.indexes()"
      ],
      "metadata": {
        "id": "sR-of2vtaCV8"
      },
      "execution_count": null,
      "outputs": []
    },
    {
      "cell_type": "code",
      "source": [
        "index_name = \"my-index\"\n",
        "dimensions = 3\n",
        "metric = 'cosine'"
      ],
      "metadata": {
        "id": "OoApuuwaaLRo"
      },
      "execution_count": null,
      "outputs": []
    },
    {
      "cell_type": "code",
      "source": [
        "if index_name in [index.name for index in pc.list.index()]:\n",
        "  pc.delete_index(index_name)\n",
        "  print(f\"{index_name} succesfully deleted.\")\n",
        "else:\n",
        "     print(f\"{index_name} not in index list.\")"
      ],
      "metadata": {
        "id": "j6FxgHHVgzQp"
      },
      "execution_count": null,
      "outputs": []
    },
    {
      "cell_type": "code",
      "source": [
        "pc.list_indexes()"
      ],
      "metadata": {
        "id": "4C-0viCrhlrR"
      },
      "execution_count": null,
      "outputs": []
    },
    {
      "cell_type": "code",
      "source": [
        "pc.create_index(\n",
        "    name = index_name,\n",
        "    dimension = dimension,\n",
        "    metric = metric,\n",
        "    spec = ServerlessSpec(\n",
        "        cloud = \"aws\",\n",
        "        region = \"us-east-1\")\n",
        "    )"
      ],
      "metadata": {
        "id": "zXB8Pb1rhsBn"
      },
      "execution_count": null,
      "outputs": []
    },
    {
      "cell_type": "code",
      "source": [
        "pc.list_indexes()"
      ],
      "metadata": {
        "id": "-uoTptBrhxNH"
      },
      "execution_count": null,
      "outputs": []
    },
    {
      "cell_type": "code",
      "source": [
        "#creating a index\n",
        "index_name_2 = \"my-index-2\"\n",
        "dimension_2 = 1536\n",
        "metric_2 = \"euclidean\""
      ],
      "metadata": {
        "id": "i8dvQhelh0TE"
      },
      "execution_count": null,
      "outputs": []
    },
    {
      "cell_type": "code",
      "source": [
        "# if index exist, delete it\n",
        "if index_name_2 in [index.name for index in pc.list_indexes()]:\n",
        "    pc.delete_index(index_name_2)\n",
        "    print(f\"{index_name_2} succesfully deleted.\")\n",
        "else:\n",
        "    print(f\"{index_name_2} not in index list.\")"
      ],
      "metadata": {
        "id": "HrMZab9Kk4-b"
      },
      "execution_count": null,
      "outputs": []
    },
    {
      "cell_type": "code",
      "source": [
        "pc\n",
        "pc.create_index(\n",
        "    name=index_name_2,\n",
        "    dimension=dimension_2,\n",
        "    metric=metric_2,\n",
        "    spec=ServerlessSpec(\n",
        "        cloud='aws',\n",
        "        region='us-east-1'\n",
        "    )\n",
        ")"
      ],
      "metadata": {
        "id": "1XFzT3ntk8dc"
      },
      "execution_count": null,
      "outputs": []
    },
    {
      "cell_type": "code",
      "source": [
        "pc.list_indexes()"
      ],
      "metadata": {
        "id": "asfMkCvulCrK"
      },
      "execution_count": null,
      "outputs": []
    },
    {
      "cell_type": "code",
      "source": [
        "index = pc.Index(name = index_name)"
      ],
      "metadata": {
        "id": "QlbC6QQylGjN"
      },
      "execution_count": null,
      "outputs": []
    },
    {
      "cell_type": "code",
      "source": [
        "index.upsert([\n",
        "        (\"Dog\",[4.,0.,1.]),\n",
        "        (\"Cat\",[4.,0.,1.]),\n",
        "        (\"Chicken\",[2.,2.,1.]),\n",
        "        (\"Mantis\",[6.,2.,3.]),\n",
        "        (\"Elephant\",[4.,0.,1.])\n",
        "])"
      ],
      "metadata": {
        "id": "qnQJayiklKPQ"
      },
      "execution_count": null,
      "outputs": []
    }
  ]
}