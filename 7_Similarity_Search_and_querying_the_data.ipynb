{
  "nbformat": 4,
  "nbformat_minor": 0,
  "metadata": {
    "colab": {
      "private_outputs": true,
      "provenance": [],
      "authorship_tag": "ABX9TyMHd434CoaOsksGuoRUsDhm",
      "include_colab_link": true
    },
    "kernelspec": {
      "name": "python3",
      "display_name": "Python 3"
    },
    "language_info": {
      "name": "python"
    }
  },
  "cells": [
    {
      "cell_type": "markdown",
      "metadata": {
        "id": "view-in-github",
        "colab_type": "text"
      },
      "source": [
        "<a href=\"https://colab.research.google.com/github/ARJUN108-verma/Vector-Database/blob/main/7_Similarity_Search_and_querying_the_data.ipynb\" target=\"_parent\"><img src=\"https://colab.research.google.com/assets/colab-badge.svg\" alt=\"Open In Colab\"/></a>"
      ]
    },
    {
      "cell_type": "markdown",
      "source": [
        "#Similarity search and querying the data:-"
      ],
      "metadata": {
        "id": "EUGHvOwNB_Mv"
      }
    },
    {
      "cell_type": "code",
      "execution_count": null,
      "metadata": {
        "id": "74MIcF9BBrTw"
      },
      "outputs": [],
      "source": [
        "import pandas as pd\n",
        "import os\n",
        "from pinecone import Pinecone, ServerlessSpec\n",
        "from dotenv import load_dotenv, find_dotenv\n",
        "import pinecone\n",
        "from sentence_transformers import SentenceTransformer"
      ]
    },
    {
      "cell_type": "code",
      "source": [
        "files = pd.read_csv(\"course_descriptions.csv\", encoding = \"ANSI\")"
      ],
      "metadata": {
        "id": "CDdDywtlCPNJ"
      },
      "execution_count": null,
      "outputs": []
    },
    {
      "cell_type": "code",
      "source": [
        "def create_course_description(row):\n",
        "    return f'''The course name is {row[\"course_name\"]}, the slug is {row[\"course_slug\"]},\n",
        "            the technology is {row[\"course_technology\"]} and the course topic is {row[\"course_topic\"]}'''"
      ],
      "metadata": {
        "id": "Gj-0uUHjCSyH"
      },
      "execution_count": null,
      "outputs": []
    },
    {
      "cell_type": "code",
      "source": [
        "pd.set_option('display.max_rows', 106)\n",
        "files['course_description_new'] = files.apply(create_course_description, axis = 1)\n",
        "print(files[\"course_description_new\"])"
      ],
      "metadata": {
        "id": "AcjoWH_QCXBH"
      },
      "execution_count": null,
      "outputs": []
    },
    {
      "cell_type": "code",
      "source": [
        "%load_ext dotenv\n",
        "%dotenv"
      ],
      "metadata": {
        "id": "q3EgQ7ZnCctY"
      },
      "execution_count": null,
      "outputs": []
    },
    {
      "cell_type": "code",
      "source": [
        "load_dotenv(find_dotenv(), override = True)"
      ],
      "metadata": {
        "id": "BWt-lkepCg4p"
      },
      "execution_count": null,
      "outputs": []
    },
    {
      "cell_type": "code",
      "source": [
        "pc = Pinecone(api_key = os.environ.get(\"PINECONE_API_KEY\"), environment = os.environ.get(\"PINECONE_ENV\"))"
      ],
      "metadata": {
        "id": "YFG_Ag2YChoX"
      },
      "execution_count": null,
      "outputs": []
    },
    {
      "cell_type": "code",
      "source": [
        "index_name = \"my-index\"\n",
        "dimension = 384\n",
        "metric = \"cosine\""
      ],
      "metadata": {
        "id": "WEVBIJafDeQr"
      },
      "execution_count": null,
      "outputs": []
    },
    {
      "cell_type": "code",
      "source": [
        "if index_name in [index.name for index in pc.list_indexes()]:\n",
        "    pc.delete_index(index_name)\n",
        "    print(f\"{index_name} succesfully deleted.\")\n",
        "else:\n",
        "     print(f\"{index_name} not in index list.\")"
      ],
      "metadata": {
        "id": "2OXLlFTfDhYI"
      },
      "execution_count": null,
      "outputs": []
    },
    {
      "cell_type": "code",
      "source": [
        "pc.create_index(\n",
        "    name = index_name,\n",
        "    dimension = dimension,\n",
        "    metric = metric,\n",
        "    spec = ServerlessSpec(\n",
        "        cloud = \"aws\",\n",
        "        region = \"us-east-1\")\n",
        "    )"
      ],
      "metadata": {
        "id": "w2zGuXB8Dk0P"
      },
      "execution_count": null,
      "outputs": []
    },
    {
      "cell_type": "code",
      "source": [
        "index = pc.Index(index_name)"
      ],
      "metadata": {
        "id": "NowPVfgRDoIv"
      },
      "execution_count": null,
      "outputs": []
    },
    {
      "cell_type": "markdown",
      "source": [
        "Embedding the data"
      ],
      "metadata": {
        "id": "H8mEh74yDrzo"
      }
    },
    {
      "cell_type": "code",
      "source": [
        "model = SentenceTransformer('multi-qa-distilbert-cos-v1')"
      ],
      "metadata": {
        "id": "eNTpIheuDw14"
      },
      "execution_count": null,
      "outputs": []
    },
    {
      "cell_type": "code",
      "source": [
        "def create_embeddings(row):\n",
        "    combined_text = ' '.join([str(row[field]) for field in ['course_description', 'course_description_new', 'course_description_short']])\n",
        "    embedding = model.encode(combined_text, show_progress_bar = False)\n",
        "    return embedding"
      ],
      "metadata": {
        "id": "9Dq3SvrFEDai"
      },
      "execution_count": null,
      "outputs": []
    },
    {
      "cell_type": "code",
      "source": [
        "files[\"embedding\"] = files.apply(create_embeddings, axis = 1)"
      ],
      "metadata": {
        "id": "oqTXD-AvEDZJ"
      },
      "execution_count": null,
      "outputs": []
    },
    {
      "cell_type": "code",
      "source": [
        "vectors_to_upsert = [(str(row[\"course_name\"]), row[\"embedding\"].tolist()) for _, row in files.iterrows()]\n",
        "index.upsert(vectors = vectors_to_upsert)"
      ],
      "metadata": {
        "id": "HPUXJAPLEln4"
      },
      "execution_count": null,
      "outputs": []
    },
    {
      "cell_type": "code",
      "source": [
        "print(\"Data upserted to Pinecone index\")"
      ],
      "metadata": {
        "id": "2ES-N9dIEo2d"
      },
      "execution_count": null,
      "outputs": []
    },
    {
      "cell_type": "code",
      "source": [],
      "metadata": {
        "id": "0vB_BEd2Eo1I"
      },
      "execution_count": null,
      "outputs": []
    }
  ]
}