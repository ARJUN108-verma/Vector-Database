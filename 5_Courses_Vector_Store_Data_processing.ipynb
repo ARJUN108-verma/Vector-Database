{
  "nbformat": 4,
  "nbformat_minor": 0,
  "metadata": {
    "colab": {
      "private_outputs": true,
      "provenance": [],
      "authorship_tag": "ABX9TyPkQQIJgUN2XiFRsOwbsmbd",
      "include_colab_link": true
    },
    "kernelspec": {
      "name": "python3",
      "display_name": "Python 3"
    },
    "language_info": {
      "name": "python"
    }
  },
  "cells": [
    {
      "cell_type": "markdown",
      "metadata": {
        "id": "view-in-github",
        "colab_type": "text"
      },
      "source": [
        "<a href=\"https://colab.research.google.com/github/ARJUN108-verma/Vector-Database/blob/main/5_Courses_Vector_Store_Data_processing.ipynb\" target=\"_parent\"><img src=\"https://colab.research.google.com/assets/colab-badge.svg\" alt=\"Open In Colab\"/></a>"
      ]
    },
    {
      "cell_type": "markdown",
      "source": [
        "#Courses Vector_store_Data_Processing:-"
      ],
      "metadata": {
        "id": "NhNp2auxgcZE"
      }
    },
    {
      "cell_type": "code",
      "source": [
        "!pip install pinecone"
      ],
      "metadata": {
        "id": "gXYPsHuShvRD"
      },
      "execution_count": null,
      "outputs": []
    },
    {
      "cell_type": "code",
      "execution_count": null,
      "metadata": {
        "id": "Rp64J7SRf_Dd"
      },
      "outputs": [],
      "source": [
        "import pandas as pd\n",
        "import os\n",
        "from pinecone import Pinecone, ServerlessSpec\n",
        "from dotenv import load_dotenv, find_dotenv\n",
        "import pinecone\n",
        "from sentence_transformers import SentenceTransformer"
      ]
    },
    {
      "cell_type": "code",
      "source": [
        "files = pd.read_csv('/content/course_descriptions.csv',encoding='latin-1')"
      ],
      "metadata": {
        "id": "kNlUc1HXhrfo"
      },
      "execution_count": null,
      "outputs": []
    },
    {
      "cell_type": "code",
      "source": [
        "def create_course_description(row):\n",
        "    return f'''The course name is {row[\"course_name\"]}, the slug is {row[\"course_slug\"]},\n",
        "            the technology is {row[\"course_technology\"]} and the course topic is {row[\"course_topic\"]}'''"
      ],
      "metadata": {
        "id": "G2r5qg4Kiemg"
      },
      "execution_count": null,
      "outputs": []
    },
    {
      "cell_type": "code",
      "source": [
        "pd.set_option('display.max_rows', 106)\n",
        "files['course_description_new'] = files.apply(create_course_description, axis = 1)\n",
        "print(files[\"course_description_new\"])"
      ],
      "metadata": {
        "id": "FVg8bijajE8u"
      },
      "execution_count": null,
      "outputs": []
    },
    {
      "cell_type": "code",
      "source": [
        "%load_ext dotenv\n",
        "%dotenv"
      ],
      "metadata": {
        "id": "cxbI3YkwjJPJ"
      },
      "execution_count": null,
      "outputs": []
    },
    {
      "cell_type": "code",
      "source": [
        "load_dotenv(find_dotenv(), override = True)"
      ],
      "metadata": {
        "id": "PZWF420LjREW"
      },
      "execution_count": null,
      "outputs": []
    },
    {
      "cell_type": "code",
      "source": [
        "pc = Pinecone(api_key = os.environ.get(\"PINECONE_API_KEY\"), environment = os.environ.get(\"PINECONE_ENV\"))"
      ],
      "metadata": {
        "id": "0KYa_OwujU6N"
      },
      "execution_count": null,
      "outputs": []
    },
    {
      "cell_type": "code",
      "source": [
        "index_name = \"my-index\"\n",
        "dimension = 384\n",
        "metric = \"cosine\""
      ],
      "metadata": {
        "id": "0wrl-KscjY3H"
      },
      "execution_count": null,
      "outputs": []
    },
    {
      "cell_type": "code",
      "source": [
        "if index_name in [index.name for index in pc.list_indexes()]:\n",
        "    pc.delete_index(index_name)\n",
        "    print(f\"{index_name} succesfully deleted.\")\n",
        "else:\n",
        "     print(f\"{index_name} not in index list.\")"
      ],
      "metadata": {
        "id": "uxoyj9wBjuuW"
      },
      "execution_count": null,
      "outputs": []
    },
    {
      "cell_type": "code",
      "source": [
        "pc.create_index(\n",
        "    name = index_name,\n",
        "    dimension = dimension,\n",
        "    metric = metric,\n",
        "    spec = ServerlessSpec(\n",
        "        cloud = \"aws\",\n",
        "        region = \"us-east-1\")\n",
        "    )"
      ],
      "metadata": {
        "id": "oBH1xo7ajy4C"
      },
      "execution_count": null,
      "outputs": []
    },
    {
      "cell_type": "code",
      "source": [
        "index = pc.Index(index_name)"
      ],
      "metadata": {
        "id": "_UNH30DNj6NE"
      },
      "execution_count": null,
      "outputs": []
    },
    {
      "cell_type": "markdown",
      "source": [
        " Embedding the data"
      ],
      "metadata": {
        "id": "5qK7buywkIIK"
      }
    },
    {
      "cell_type": "code",
      "source": [
        "#model = SentenceTransformer(\"all-MiniLM-L6-v2\")\n",
        "model = SentenceTransformer('multi-qa-distilbert-cos-v1')"
      ],
      "metadata": {
        "id": "GhoexJomkDfz"
      },
      "execution_count": null,
      "outputs": []
    },
    {
      "cell_type": "code",
      "source": [
        "def create_embeddings(row):\n",
        "    combined_text = ' '.join([str(row[field]) for field in ['course_description', 'course_description_new', 'course_description_short']])\n",
        "    embedding = model.encode(combined_text, show_progress_bar = False)\n",
        "    return embedding"
      ],
      "metadata": {
        "id": "2Fxn8YmnkRjA"
      },
      "execution_count": null,
      "outputs": []
    },
    {
      "cell_type": "code",
      "source": [
        "files[\"embedding\"] = files.apply(create_embeddings, axis = 1)"
      ],
      "metadata": {
        "id": "s9D0TfbukX1m"
      },
      "execution_count": null,
      "outputs": []
    },
    {
      "cell_type": "code",
      "source": [
        "vectors_to_upsert = [(str(row[\"course_name\"]), row[\"embedding\"].tolist()) for _, row in files.iterrows()]\n",
        "index.upsert(vectors = vectors_to_upsert)\n",
        "\n",
        "print(\"Data upserted to Pinecone index\")"
      ],
      "metadata": {
        "id": "nhQlZn8ekde0"
      },
      "execution_count": null,
      "outputs": []
    },
    {
      "cell_type": "markdown",
      "source": [
        "Semantic search"
      ],
      "metadata": {
        "id": "wU_-DtOOkkdY"
      }
    },
    {
      "cell_type": "code",
      "source": [
        "query = \"clustering\"\n",
        "query_embedding = model.encode(query, show_progress_bar = False).tolist()"
      ],
      "metadata": {
        "id": "ryAznlNhkhUU"
      },
      "execution_count": null,
      "outputs": []
    },
    {
      "cell_type": "code",
      "source": [
        "query_results = index.query(\n",
        "    vector = [query_embedding],\n",
        "    top_k = 12,\n",
        "    include_values = True\n",
        ")"
      ],
      "metadata": {
        "id": "p9rgdz6vkseQ"
      },
      "execution_count": null,
      "outputs": []
    },
    {
      "cell_type": "code",
      "source": [
        "query_results"
      ],
      "metadata": {
        "id": "1y1EKFVokveV"
      },
      "execution_count": null,
      "outputs": []
    },
    {
      "cell_type": "code",
      "source": [
        "score_threshold = 0.3\n",
        "for match in query_results[\"matches\"]:\n",
        "    if match['score'] >= score_threshold:\n",
        "        print(f\"Matched item ID: {match['id']}, score: {match['score']}\")"
      ],
      "metadata": {
        "id": "iQecRBSskzmG"
      },
      "execution_count": null,
      "outputs": []
    },
    {
      "cell_type": "code",
      "source": [],
      "metadata": {
        "id": "ziP3KRwKlBR2"
      },
      "execution_count": null,
      "outputs": []
    }
  ]
}